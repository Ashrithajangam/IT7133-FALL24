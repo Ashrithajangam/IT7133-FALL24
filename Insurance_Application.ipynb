{
  "nbformat": 4,
  "nbformat_minor": 0,
  "metadata": {
    "colab": {
      "provenance": [],
      "authorship_tag": "ABX9TyND/2XVmb/1yDcdlzeb6T56",
      "include_colab_link": true
    },
    "kernelspec": {
      "name": "python3",
      "display_name": "Python 3"
    },
    "language_info": {
      "name": "python"
    }
  },
  "cells": [
    {
      "cell_type": "markdown",
      "metadata": {
        "id": "view-in-github",
        "colab_type": "text"
      },
      "source": [
        "<a href=\"https://colab.research.google.com/github/Ashrithajangam/IT7133-FALL24/blob/main/Insurance_Application.ipynb\" target=\"_parent\"><img src=\"https://colab.research.google.com/assets/colab-badge.svg\" alt=\"Open In Colab\"/></a>"
      ]
    },
    {
      "cell_type": "markdown",
      "source": [
        "# **Model and Pipeline Loading**"
      ],
      "metadata": {
        "id": "YuNKXp-iOjX5"
      }
    },
    {
      "cell_type": "code",
      "execution_count": 13,
      "metadata": {
        "colab": {
          "base_uri": "https://localhost:8080/"
        },
        "id": "vUsQlxdjHenj",
        "outputId": "af7736b1-8891-46e1-dd48-1f998db4e280"
      },
      "outputs": [
        {
          "output_type": "stream",
          "name": "stdout",
          "text": [
            "Drive already mounted at /content/drive; to attempt to forcibly remount, call drive.mount(\"/content/drive\", force_remount=True).\n"
          ]
        }
      ],
      "source": [
        "from google.colab import drive\n",
        "drive.mount('/content/drive')\n",
        "\n",
        "import tensorflow as tf\n",
        "from keras.models import load_model\n",
        "import joblib\n",
        "import numpy as np\n",
        "import pandas as pd\n",
        "from IPython.display import display, Markdown\n",
        "import ipywidgets as widgets\n",
        "\n",
        "def log_transformation(x):\n",
        "    return np.log(x + 0.01)"
      ]
    },
    {
      "cell_type": "code",
      "source": [
        "# Step 4: Define the Paths for the Pipeline and Model\n",
        "pipeline_path = '/content/drive/MyDrive/Model/saved_pipeline.pkl'  # Saved pipeline path\n",
        "model_path = '/content/drive/MyDrive/Model/saved_neural_net_model.h5'  # Saved neural network model path\n",
        "\n",
        "# Step 5: Load the Saved Processing Pipeline\n",
        "processing_pipeline = joblib.load(pipeline_path)\n",
        "\n",
        "# Step 6: Load the Saved Neural Network Model with 'mse' (Mean Squared Error) as a custom object\n",
        "neural_net = load_model(model_path, custom_objects={'mse': tf.keras.losses.MeanSquaredError()})"
      ],
      "metadata": {
        "colab": {
          "base_uri": "https://localhost:8080/"
        },
        "id": "Xg8t7yKAOsGn",
        "outputId": "75023057-d663-461e-d10e-132e441a4167"
      },
      "execution_count": 15,
      "outputs": [
        {
          "output_type": "stream",
          "name": "stderr",
          "text": [
            "WARNING:absl:Compiled the loaded model, but the compiled metrics have yet to be built. `model.compile_metrics` will be empty until you train or evaluate the model.\n"
          ]
        }
      ]
    },
    {
      "cell_type": "markdown",
      "source": [
        "# **Application GUI and Prediction**"
      ],
      "metadata": {
        "id": "WQVPD1TQPj8y"
      }
    },
    {
      "cell_type": "code",
      "source": [
        "# Step 6: GUI for User Input\n",
        "output = widgets.Output()\n",
        "\n",
        "# @title # Please enter the patient's information { run: \"auto\" }\n",
        "# @markdown #### Age\n",
        "age = 26  # @param {type:\"slider\", min:10, max:100, step:1}\n",
        "# @markdown #### Biological sex\n",
        "sex = \"male\"  # @param ['male', 'female'] {type:\"string\"}\n",
        "# @markdown #### Body mass index (BMI)\n",
        "bmi = 7  # @param {type:\"slider\", min:0, max:60, step:1}\n",
        "# @markdown #### Number of children\n",
        "children = 0  # @param {type:\"slider\", min:0, max:25, step:1}\n",
        "# @markdown #### Smoking status\n",
        "smoker = \"yes\"  # @param ['yes', 'no'] {type:\"string\"}\n",
        "# @markdown #### Region\n",
        "region = \"northwest\"  # @param ['northwest', 'southwest', 'northeast', 'southeast'] {type:\"string\"}\n",
        "\n",
        "# Step 7: Collect Patient Information into a Dictionary\n",
        "patient = {\n",
        "    'age': [age],\n",
        "    'sex': [sex],\n",
        "    'bmi': [bmi],\n",
        "    'children': [children],\n",
        "    'smoker': [smoker],\n",
        "    'region': [region],\n",
        "}\n",
        "\n",
        "# Step 8: Process the Input Data Using the Saved Pipeline\n",
        "patient_df = pd.DataFrame(patient)\n",
        "patient_processed = processing_pipeline.transform(patient_df)\n",
        "\n",
        "# Step 9: Make the Prediction Using the Trained Model\n",
        "predicted_charge = neural_net.predict(patient_processed, verbose=0)[0, 0]\n",
        "\n",
        "# Step 10: Display the Predicted Insurance Charge (corrected 'Markdown')\n",
        "display(Markdown('## Predicted insurance charge: $' + str(np.round(predicted_charge, 2))))\n"
      ],
      "metadata": {
        "colab": {
          "base_uri": "https://localhost:8080/",
          "height": 64
        },
        "id": "cKGSue9ZPpAM",
        "outputId": "6fadbada-0dfa-4a3f-d9d8-9046d6a2c352"
      },
      "execution_count": 33,
      "outputs": [
        {
          "output_type": "display_data",
          "data": {
            "text/plain": [
              "<IPython.core.display.Markdown object>"
            ],
            "text/markdown": "## Predicted insurance charge: $8413.7"
          },
          "metadata": {}
        }
      ]
    }
  ]
}